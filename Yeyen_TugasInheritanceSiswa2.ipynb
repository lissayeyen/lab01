{
  "nbformat": 4,
  "nbformat_minor": 0,
  "metadata": {
    "colab": {
      "provenance": [],
      "include_colab_link": true
    },
    "kernelspec": {
      "name": "python3",
      "display_name": "Python 3"
    },
    "language_info": {
      "name": "python"
    }
  },
  "cells": [
    {
      "cell_type": "markdown",
      "metadata": {
        "id": "view-in-github",
        "colab_type": "text"
      },
      "source": [
        "<a href=\"https://colab.research.google.com/github/lissayeyen/lab01/blob/main/Yeyen_TugasInheritanceSiswa2.ipynb\" target=\"_parent\"><img src=\"https://colab.research.google.com/assets/colab-badge.svg\" alt=\"Open In Colab\"/></a>"
      ]
    },
    {
      "cell_type": "markdown",
      "source": [
        "Buatlah tiga kelas: User, Siswa, dan Guru. Class Siswa dan Guru mewarisi atribute dan fungsi dari class User. Keduanya menambahkan atribut dan fungsi tambahan sesuai dengan peran masing-masing.\n",
        "\n",
        "Output dari program ini akan menampilkan informasi seorang siswa dan seorang guru dengan menggunakan fungsi tampil_info() yang diwarisi dari class User. Untuk info user yang ditampilkan silakan ditentukan sendiri minimal ada nama dan umur.\n",
        "\n",
        "Untuk informasi khusus dari siswa dan guru silakan tentukan sendiri, minimal satu atribute tambahan yang membedakan antara siswa dan guru."
      ],
      "metadata": {
        "id": "oWYx5WDsIouf"
      }
    },
    {
      "cell_type": "code",
      "execution_count": 1,
      "metadata": {
        "id": "VQWWW4rpH9ve"
      },
      "outputs": [],
      "source": [
        "#Class User\n",
        "class User:\n",
        "  def __init__(self, nama, umur):\n",
        "      self.nama = nama\n",
        "      self.umur = umur\n",
        "\n",
        "  def tampil_info(self):\n",
        "      print(f\"Nama: {self.nama}\")\n",
        "      print(f\"umur: {self.umur}\")"
      ]
    },
    {
      "cell_type": "code",
      "source": [
        "#Class Siswa\n",
        "class Siswa(User):\n",
        "    def __init__(self, nama, umur, kelas):\n",
        "        super().__init__(nama, umur)\n",
        "        self.kelas = kelas\n",
        "\n",
        "    def tampil_info(self):\n",
        "        super().tampil_info()\n",
        "        print(f\"Kelas: {self.kelas}\")"
      ],
      "metadata": {
        "id": "i_iBjMciJJc5"
      },
      "execution_count": 2,
      "outputs": []
    },
    {
      "cell_type": "code",
      "source": [
        "#Class Guru\n",
        "class Guru(User):\n",
        "    def __init__(self, nama, umur, mapel):\n",
        "        super().__init__(nama, umur)\n",
        "        self.mapel = mapel\n",
        "\n",
        "    def tampil_info(self):\n",
        "        super().tampil_info()\n",
        "        print(f\"Mata pelajaran: {self.mapel}\")"
      ],
      "metadata": {
        "id": "lrnlKm6sJMjp"
      },
      "execution_count": 3,
      "outputs": []
    },
    {
      "cell_type": "code",
      "source": [
        "#Program utama untuk menampilkan info\n",
        "siswa = Siswa(\"Yeyen\", 17, \"XI RPL 1\")\n",
        "guru = Guru(\"Siti\", 35, \"Matematika\")\n",
        "\n",
        "siswa.tampil_info()\n",
        "print()\n",
        "guru.tampil_info()\n",
        ""
      ],
      "metadata": {
        "id": "VDGIma_2JOVx",
        "colab": {
          "base_uri": "https://localhost:8080/"
        },
        "outputId": "08cfeaf1-0592-4498-e8a3-bb11c0482b91"
      },
      "execution_count": 4,
      "outputs": [
        {
          "output_type": "stream",
          "name": "stdout",
          "text": [
            "Nama: Yeyen\n",
            "umur: 17\n",
            "Kelas: XI RPL 1\n",
            "\n",
            "Nama: Siti\n",
            "umur: 35\n",
            "Mata pelajaran: Matematika\n"
          ]
        }
      ]
    }
  ]
}